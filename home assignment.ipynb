{
 "cells": [
  {
   "cell_type": "code",
   "execution_count": 1,
   "id": "a15257d8-e933-447f-97b9-9556add5572f",
   "metadata": {},
   "outputs": [
    {
     "name": "stdout",
     "output_type": "stream",
     "text": [
      "Hello Samyak\n",
      "Hello, Samyak. your 21 years old.\n"
     ]
    }
   ],
   "source": [
    "name= \"Samyak\"\n",
    "print(\"Hello \" +  name)\n",
    "\n",
    "age= 21\n",
    "print(f\"Hello, {name}. your {age} years old.\")\n"
   ]
  },
  {
   "cell_type": "code",
   "execution_count": 2,
   "id": "335ef968-7201-4576-8caa-31cf74cddccc",
   "metadata": {},
   "outputs": [
    {
     "name": "stdout",
     "output_type": "stream",
     "text": [
      "*\n",
      "* *\n",
      "* * *\n",
      "* * * *\n",
      "* * * * *\n"
     ]
    }
   ],
   "source": [
    "print(\"*\\n* *\\n* * *\\n* * * *\\n* * * * *\")"
   ]
  },
  {
   "cell_type": "code",
   "execution_count": null,
   "id": "9dfab738-fd51-4409-9d5f-ef48234bd7ab",
   "metadata": {},
   "outputs": [],
   "source": [
    "1. Write a program that takes two numbers as variables and prints their sum, difference, product, and quotient.\n"
   ]
  },
  {
   "cell_type": "code",
   "execution_count": 1,
   "id": "7947fabe-b2fe-4085-a738-747958f770de",
   "metadata": {},
   "outputs": [
    {
     "name": "stdout",
     "output_type": "stream",
     "text": [
      "Sum: 25\n",
      "Difference: -5\n",
      "Product: 150\n",
      "Quotient: 0.6666666666666666\n"
     ]
    }
   ],
   "source": [
    "num1 = 10\n",
    "num2 = 15\n",
    "\n",
    "print(\"Sum:\", num1 + num2)\n",
    "print(\"Difference:\", num1 - num2)\n",
    "print(\"Product:\", num1 * num2)\n",
    "print(\"Quotient:\", num1 / num2)"
   ]
  },
  {
   "cell_type": "code",
   "execution_count": null,
   "id": "d6bc8101-1524-44b5-ba46-cd09cf9f7651",
   "metadata": {},
   "outputs": [],
   "source": [
    "2. Write a program that takes the radius of a circle as a variable and prints its area. Use π = 3.1416."
   ]
  },
  {
   "cell_type": "code",
   "execution_count": 2,
   "id": "8ef21896-9f43-40fe-b7a8-eda3ac52a4fd",
   "metadata": {},
   "outputs": [
    {
     "name": "stdout",
     "output_type": "stream",
     "text": [
      "Area of circle: 153.9384\n"
     ]
    }
   ],
   "source": [
    "radius = 7\n",
    "pi = 3.1416\n",
    "area = pi * radius * radius\n",
    "print(\"Area of circle:\", area)"
   ]
  },
  {
   "cell_type": "code",
   "execution_count": null,
   "id": "3fda04d8-3839-4b35-80a0-d6fed7e8604e",
   "metadata": {},
   "outputs": [],
   "source": [
    "3. Write a program that takes a string and prints it in reverse.\n"
   ]
  },
  {
   "cell_type": "code",
   "execution_count": 4,
   "id": "ffda995d-7c27-4387-a6e8-c7eb5612a493",
   "metadata": {},
   "outputs": [
    {
     "name": "stdout",
     "output_type": "stream",
     "text": [
      "kaymaS\n"
     ]
    }
   ],
   "source": [
    "string = \"Samyak\"\n",
    "print(string[::-1])"
   ]
  },
  {
   "cell_type": "code",
   "execution_count": null,
   "id": "a5825550-3a8c-4105-9206-6e3d79197cae",
   "metadata": {},
   "outputs": [],
   "source": [
    "4. Write a program that counts the number of words in a sentence.\n"
   ]
  },
  {
   "cell_type": "code",
   "execution_count": 6,
   "id": "307e9566-386b-4d81-8e6b-762a2e15be0c",
   "metadata": {},
   "outputs": [
    {
     "name": "stdout",
     "output_type": "stream",
     "text": [
      "Words: 2\n"
     ]
    }
   ],
   "source": [
    "s = \"Hello worrld\"\n",
    "print(\"Words:\", len(s.split()))\n"
   ]
  },
  {
   "cell_type": "code",
   "execution_count": 7,
   "id": "ac8f88d6-591e-4eef-9cd2-62ec20c7bbc6",
   "metadata": {},
   "outputs": [
    {
     "name": "stdout",
     "output_type": "stream",
     "text": [
      "Uppercase: HELLO WORLD\n",
      "Lowercase: hello world\n"
     ]
    }
   ],
   "source": [
    "#5. Write a program that converts a string to uppercase and then to lowercase.\n",
    "text = \"Hello World\"\n",
    "print(\"Uppercase:\", text.upper())\n",
    "print(\"Lowercase:\", text.lower())\n"
   ]
  },
  {
   "cell_type": "code",
   "execution_count": 10,
   "id": "a61b3eb0-3c05-4208-a33b-9fd329af7018",
   "metadata": {},
   "outputs": [
    {
     "name": "stdout",
     "output_type": "stream",
     "text": [
      "Length of string: 6\n"
     ]
    }
   ],
   "source": [
    "# 6Write a program to find the length of String in Python.\n",
    "text = \"Python\"\n",
    "print(\"Length of string:\", len(text))"
   ]
  },
  {
   "cell_type": "code",
   "execution_count": 9,
   "id": "33643829-4cbc-4410-8d43-f5cdc4b80401",
   "metadata": {},
   "outputs": [
    {
     "name": "stdout",
     "output_type": "stream",
     "text": [
      "After removing letters: He Wrd\n"
     ]
    }
   ],
   "source": [
    "#7. Write a program to remove user defined letters From a String in Python.\n",
    "\n",
    "text = \"Hello World\"\n",
    "remv = \"lo\"\n",
    "\n",
    "for char in remv:\n",
    "    text = text.replace(char, \"\")\n",
    "print(\"After removing letters:\", text)"
   ]
  },
  {
   "cell_type": "code",
   "execution_count": null,
   "id": "2afed39f-19d0-44f3-bd3b-6a5e350f157f",
   "metadata": {},
   "outputs": [],
   "source": []
  }
 ],
 "metadata": {
  "kernelspec": {
   "display_name": "Python 3 (ipykernel)",
   "language": "python",
   "name": "python3"
  },
  "language_info": {
   "codemirror_mode": {
    "name": "ipython",
    "version": 3
   },
   "file_extension": ".py",
   "mimetype": "text/x-python",
   "name": "python",
   "nbconvert_exporter": "python",
   "pygments_lexer": "ipython3",
   "version": "3.13.3"
  }
 },
 "nbformat": 4,
 "nbformat_minor": 5
}
